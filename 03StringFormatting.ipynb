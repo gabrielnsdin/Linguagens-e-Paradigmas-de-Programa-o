{
 "cells": [
  {
   "cell_type": "code",
   "execution_count": 14,
   "metadata": {
    "collapsed": false
   },
   "outputs": [
    {
     "name": "stdout",
     "output_type": "stream",
     "text": [
      "vou inserir alguma coisa aqui\n"
     ]
    }
   ],
   "source": [
    "print(\"vou inserir %s aqui\" %'alguma coisa')"
   ]
  },
  {
   "cell_type": "code",
   "execution_count": 15,
   "metadata": {
    "collapsed": false
   },
   "outputs": [
    {
     "name": "stdout",
     "output_type": "stream",
     "text": [
      "vou inserir alguma coisa aqui e outra coisa e mais uma coisa\n"
     ]
    }
   ],
   "source": [
    "print(\"vou inserir %s aqui e %s e %s\" %('alguma coisa','outra coisa', 'mais uma coisa'))"
   ]
  },
  {
   "cell_type": "code",
   "execution_count": 16,
   "metadata": {
    "collapsed": false
   },
   "outputs": [
    {
     "name": "stdout",
     "output_type": "stream",
     "text": [
      "vou inserir alguma coisa aqui e outra coisa e mais uma coisa\n"
     ]
    }
   ],
   "source": [
    "x,y,z = 'alguma coisa','outra coisa', 'mais uma coisa'\n",
    "print(\"vou inserir %s aqui e %s e %s\" %(x,y,z))"
   ]
  },
  {
   "cell_type": "code",
   "execution_count": 17,
   "metadata": {
    "collapsed": false
   },
   "outputs": [
    {
     "name": "stdout",
     "output_type": "stream",
     "text": [
      "Número decimal: 13.14\n"
     ]
    }
   ],
   "source": [
    "print(\"Número decimal: %5.2f\" %13.144)"
   ]
  },
  {
   "cell_type": "code",
   "execution_count": 18,
   "metadata": {
    "collapsed": false
   },
   "outputs": [
    {
     "name": "stdout",
     "output_type": "stream",
     "text": [
      "primeiro: ola \n",
      "segundo: 13.14 \n",
      "terceiro: 500\n"
     ]
    }
   ],
   "source": [
    "print(\"primeiro: %s \\nsegundo: %5.2f \\nterceiro: %3d\" %('ola',13.14,500))"
   ]
  },
  {
   "cell_type": "code",
   "execution_count": 19,
   "metadata": {
    "collapsed": false
   },
   "outputs": [
    {
     "name": "stdout",
     "output_type": "stream",
     "text": [
      "vou inserir alguma coisa aqui\n"
     ]
    }
   ],
   "source": [
    "print(\"vou inserir {} aqui\" .format('alguma coisa'))"
   ]
  },
  {
   "cell_type": "code",
   "execution_count": 21,
   "metadata": {
    "collapsed": false
   },
   "outputs": [
    {
     "name": "stdout",
     "output_type": "stream",
     "text": [
      "vou inserir alguma coisa aqui e outra coisa e mais uma coisa\n"
     ]
    }
   ],
   "source": [
    "print(\"vou inserir {0} aqui e {1} e {2}\" .format('alguma coisa','outra coisa', 'mais uma coisa'))"
   ]
  },
  {
   "cell_type": "code",
   "execution_count": 23,
   "metadata": {
    "collapsed": false
   },
   "outputs": [
    {
     "name": "stdout",
     "output_type": "stream",
     "text": [
      "Fruta    | Quantidade\n",
      "Maça     |       3.0\n",
      "Fruta    |        10\n"
     ]
    }
   ],
   "source": [
    "print('{0:8} | {1:9}'.format('Fruta', 'Quantidade'))\n",
    "print('{0:8} | {1:9}'.format('Maça', 3.))\n",
    "print('{0:8} | {1:9}'.format('Fruta', 10))"
   ]
  },
  {
   "cell_type": "code",
   "execution_count": 25,
   "metadata": {
    "collapsed": false
   },
   "outputs": [
    {
     "name": "stdout",
     "output_type": "stream",
     "text": [
      "Left     |  Center  |    Right\n",
      "10       |    11    |       12\n"
     ]
    }
   ],
   "source": [
    "print('{0:<8} | {1:^8} | {2:>8}'.format('Left','Center','Right'))\n",
    "print('{0:<8} | {1:^8} | {2:>8}'.format(10,11,12))"
   ]
  },
  {
   "cell_type": "code",
   "execution_count": 26,
   "metadata": {
    "collapsed": false
   },
   "outputs": [
    {
     "name": "stdout",
     "output_type": "stream",
     "text": [
      "Left==== | -Center- | ...Right\n",
      "10====== | ---11--- | ......12\n"
     ]
    }
   ],
   "source": [
    "print('{0:=<8} | {1:-^8} | {2:.>8}'.format('Left','Center','Right'))\n",
    "print('{0:=<8} | {1:-^8} | {2:.>8}'.format(10,11,12))"
   ]
  },
  {
   "cell_type": "code",
   "execution_count": null,
   "metadata": {
    "collapsed": true
   },
   "outputs": [],
   "source": []
  }
 ],
 "metadata": {
  "kernelspec": {
   "display_name": "Python 3",
   "language": "python",
   "name": "python3"
  },
  "language_info": {
   "codemirror_mode": {
    "name": "ipython",
    "version": 3
   },
   "file_extension": ".py",
   "mimetype": "text/x-python",
   "name": "python",
   "nbconvert_exporter": "python",
   "pygments_lexer": "ipython3",
   "version": "3.6.0"
  }
 },
 "nbformat": 4,
 "nbformat_minor": 2
}
