{
 "cells": [
  {
   "cell_type": "markdown",
   "metadata": {},
   "source": [
    "## Eager evaluation\n",
    "considere uma função que gere sequencia de fibonacci de um tamanho n. A implementação abaixo é eager e a mantem na memoria."
   ]
  },
  {
   "cell_type": "code",
   "execution_count": 3,
   "metadata": {
    "collapsed": false
   },
   "outputs": [
    {
     "name": "stdout",
     "output_type": "stream",
     "text": [
      "[1, 1, 2, 3, 5, 8, 13, 21, 34, 55]\n"
     ]
    }
   ],
   "source": [
    "def eager_fibonacci(n):\n",
    "    l = [1,1]\n",
    "    for i in range(n-2):\n",
    "        l.append(sum(l[-2:]))\n",
    "    return l\n",
    "\n",
    "print(eager_fibonacci(10))"
   ]
  },
  {
   "cell_type": "markdown",
   "metadata": {},
   "source": [
    "## Lazy evaluation\n",
    "vamos usar um generator que mantem na memoria apenas dois numeros da sequencia e gera um numero de cada vez"
   ]
  },
  {
   "cell_type": "code",
   "execution_count": 7,
   "metadata": {
    "collapsed": false
   },
   "outputs": [
    {
     "name": "stdout",
     "output_type": "stream",
     "text": [
      "1\n",
      "1\n",
      "2\n",
      "3\n",
      "5\n",
      "8\n",
      "13\n",
      "21\n",
      "34\n",
      "55\n"
     ]
    }
   ],
   "source": [
    "def lazy_fibonacci():\n",
    "    yield 1\n",
    "    yield 1\n",
    "    l = [1,1]\n",
    "    while True:\n",
    "        l = [l[-1], sum(l[-2:])]\n",
    "        yield l[-1]\n",
    "\n",
    "for i, f in enumerate(lazy_fibonacci()):\n",
    "    if i == 10:\n",
    "        break\n",
    "    print(f)"
   ]
  },
  {
   "cell_type": "code",
   "execution_count": null,
   "metadata": {
    "collapsed": true
   },
   "outputs": [],
   "source": []
  }
 ],
 "metadata": {
  "kernelspec": {
   "display_name": "Python 3",
   "language": "python",
   "name": "python3"
  },
  "language_info": {
   "codemirror_mode": {
    "name": "ipython",
    "version": 3
   },
   "file_extension": ".py",
   "mimetype": "text/x-python",
   "name": "python",
   "nbconvert_exporter": "python",
   "pygments_lexer": "ipython3",
   "version": "3.6.0"
  }
 },
 "nbformat": 4,
 "nbformat_minor": 2
}
