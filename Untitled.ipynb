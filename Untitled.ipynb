{
 "cells": [
  {
   "cell_type": "markdown",
   "metadata": {},
   "source": [
    "## collections.namedtuple\n",
    "é uma função do tipo factory. Só que não gera objetos, mas gera classes que precisam ser instanciadas"
   ]
  },
  {
   "cell_type": "code",
   "execution_count": 2,
   "metadata": {
    "collapsed": false
   },
   "outputs": [
    {
     "name": "stdout",
     "output_type": "stream",
     "text": [
      "Bonato tem 49 anos de idade\n"
     ]
    }
   ],
   "source": [
    "from collections import namedtuple\n",
    "\n",
    "Person = namedtuple('Pessoa', ['nome', 'idade'])\n",
    "professor = Person(nome='Bonato', idade=49)\n",
    "print('%s tem %s anos de idade' %(professor.nome, professor.idade))"
   ]
  },
  {
   "cell_type": "markdown",
   "metadata": {},
   "source": [
    "## collections.OderDict\n",
    "Se seu código precisa que a ordem dos elementos em uma dicionary seja oreeservada, use OderedDict"
   ]
  },
  {
   "cell_type": "code",
   "execution_count": 4,
   "metadata": {
    "collapsed": false
   },
   "outputs": [
    {
     "name": "stdout",
     "output_type": "stream",
     "text": [
      "Lagarto é um Reptil\n",
      "Baleia é um Mamifero\n"
     ]
    }
   ],
   "source": [
    "from collections import OrderedDict\n",
    "\n",
    "d = OrderedDict([\n",
    "    ('Lagarto', 'Reptil'),\n",
    "    ('Baleia', 'Mamifero')\n",
    "])\n",
    "\n",
    "for especie, classe in d.items():\n",
    "    print('%s é um %s' % (especie, classe))"
   ]
  },
  {
   "cell_type": "markdown",
   "metadata": {},
   "source": [
    "## collections.default\n",
    "Use defaultdict se voce quiser que chaves inexistents retornem um valor padrão em vez da exception KeyError."
   ]
  },
  {
   "cell_type": "code",
   "execution_count": 5,
   "metadata": {
    "collapsed": false
   },
   "outputs": [
    {
     "name": "stdout",
     "output_type": "stream",
     "text": [
      "Python\n",
      "PHP\n"
     ]
    }
   ],
   "source": [
    "from collections import defaultdict\n",
    "\n",
    "linguagem_de_programacao_favorita = {\n",
    "    'Bonato': 'Python',\n",
    "    'Andrey': 'Java',\n",
    "    'Pedro' : 'Cobol',\n",
    "}\n",
    "d = defaultdict(lambda: 'PHP')\n",
    "d.update(linguagem_de_programacao_favorita)\n",
    "print(d['Bonato'])\n",
    "print(d['Ninguem'])"
   ]
  },
  {
   "cell_type": "code",
   "execution_count": null,
   "metadata": {
    "collapsed": true
   },
   "outputs": [],
   "source": [
    "                  "
   ]
  }
 ],
 "metadata": {
  "kernelspec": {
   "display_name": "Python 3",
   "language": "python",
   "name": "python3"
  },
  "language_info": {
   "codemirror_mode": {
    "name": "ipython",
    "version": 3
   },
   "file_extension": ".py",
   "mimetype": "text/x-python",
   "name": "python",
   "nbconvert_exporter": "python",
   "pygments_lexer": "ipython3",
   "version": "3.6.0"
  }
 },
 "nbformat": 4,
 "nbformat_minor": 2
}
