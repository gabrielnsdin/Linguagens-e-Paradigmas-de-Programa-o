{
 "cells": [
  {
   "cell_type": "markdown",
   "metadata": {},
   "source": [
    "## Sorriso!"
   ]
  },
  {
   "cell_type": "code",
   "execution_count": 1,
   "metadata": {
    "collapsed": false
   },
   "outputs": [
    {
     "name": "stdout",
     "output_type": "stream",
     "text": [
      "[':-)', ':-)', ':-)']\n"
     ]
    }
   ],
   "source": [
    "import itertools\n",
    "\n",
    "def smile(l):\n",
    "    return list(itertools.chain(*[[':-)']*i for i in l]))\n",
    "\n",
    "print(smile([1,2]))"
   ]
  },
  {
   "cell_type": "markdown",
   "metadata": {},
   "source": [
    "## Teste Unitario"
   ]
  },
  {
   "cell_type": "code",
   "execution_count": 8,
   "metadata": {
    "collapsed": false
   },
   "outputs": [
    {
     "name": "stdout",
     "output_type": "stream",
     "text": [
      "Começando o teste\n",
      "Terminou\n"
     ]
    }
   ],
   "source": [
    "print('Começando o teste')\n",
    "assert(smile([]) == [])\n",
    "assert(smile([1]) == [':-)'])\n",
    "assert(smile([0]) == [])\n",
    "assert(smile([1,0,2]) == [':-)', ':-)', ':-)'])\n",
    "print('Terminou')"
   ]
  },
  {
   "cell_type": "markdown",
   "metadata": {},
   "source": [
    "## \"Provando... mais ou menos\"\n",
    "\n",
    "Seja l o o sorriso e a, b, c a quantidade de elementos em cada lista como argumento\n",
    "\n",
    "a\\*1 + b\\*1 + c\\*1 = l*(a+b+c)"
   ]
  },
  {
   "cell_type": "code",
   "execution_count": 10,
   "metadata": {
    "collapsed": false
   },
   "outputs": [
    {
     "name": "stdout",
     "output_type": "stream",
     "text": [
      "[':-)', ':-)', ':-)']\n"
     ]
    }
   ],
   "source": [
    "def smile(l):\n",
    "    return [':-)'] * sum(l)\n",
    "\n",
    "print(smile([1,2]))"
   ]
  },
  {
   "cell_type": "code",
   "execution_count": null,
   "metadata": {
    "collapsed": true
   },
   "outputs": [],
   "source": []
  }
 ],
 "metadata": {
  "kernelspec": {
   "display_name": "Python 3",
   "language": "python",
   "name": "python3"
  },
  "language_info": {
   "codemirror_mode": {
    "name": "ipython",
    "version": 3
   },
   "file_extension": ".py",
   "mimetype": "text/x-python",
   "name": "python",
   "nbconvert_exporter": "python",
   "pygments_lexer": "ipython3",
   "version": "3.6.0"
  }
 },
 "nbformat": 4,
 "nbformat_minor": 2
}
