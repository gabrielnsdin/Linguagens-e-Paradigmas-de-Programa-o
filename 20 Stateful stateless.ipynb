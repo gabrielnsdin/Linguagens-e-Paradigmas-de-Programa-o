{
 "cells": [
  {
   "cell_type": "markdown",
   "metadata": {},
   "source": [
    "## Exemplo Stateful"
   ]
  },
  {
   "cell_type": "code",
   "execution_count": 1,
   "metadata": {
    "collapsed": false
   },
   "outputs": [
    {
     "name": "stdout",
     "output_type": "stream",
     "text": [
      "[João] Hello World\n",
      "[Carlos] Foobar\n"
     ]
    }
   ],
   "source": [
    "current_speaker = None\n",
    "\n",
    "def register(name):\n",
    "    global current_speaker\n",
    "    current_speaker = name\n",
    "    \n",
    "def speak(text):\n",
    "    print('[%s] %s' % (current_speaker, text))\n",
    "    \n",
    "register('João')\n",
    "speak('Hello World')\n",
    "register('Carlos')\n",
    "speak('Foobar')"
   ]
  },
  {
   "cell_type": "markdown",
   "metadata": {},
   "source": [
    "## Orientado a Objetos - tabém é stateful"
   ]
  },
  {
   "cell_type": "code",
   "execution_count": 2,
   "metadata": {
    "collapsed": false
   },
   "outputs": [
    {
     "name": "stdout",
     "output_type": "stream",
     "text": [
      "[Joao] Hello World\n",
      "[Carlos] Foobar\n"
     ]
    }
   ],
   "source": [
    "class Speaker():\n",
    "    \n",
    "    def __init__(self, name):\n",
    "        self._name = name\n",
    "        \n",
    "    def speak(self, text):\n",
    "        print('[%s] %s' % (self._name, text))\n",
    "        \n",
    "joao = Speaker('Joao')\n",
    "joao.speak('Hello World')\n",
    "carlos = Speaker('Carlos')\n",
    "carlos.speak('Foobar')"
   ]
  },
  {
   "cell_type": "markdown",
   "metadata": {},
   "source": [
    "## Funções stateless são triviais"
   ]
  },
  {
   "cell_type": "code",
   "execution_count": 4,
   "metadata": {
    "collapsed": false
   },
   "outputs": [
    {
     "name": "stdout",
     "output_type": "stream",
     "text": [
      "[Joao] Hello World\n",
      "[carlos] Foobar\n"
     ]
    }
   ],
   "source": [
    "def speak(name, text):\n",
    "    print('[%s] %s' % (name, text))\n",
    "\n",
    "joao = 'Joao'\n",
    "speak(joao, 'Hello World')\n",
    "carlos = 'carlos'\n",
    "speak(carlos, 'Foobar')"
   ]
  },
  {
   "cell_type": "code",
   "execution_count": null,
   "metadata": {
    "collapsed": true
   },
   "outputs": [],
   "source": []
  }
 ],
 "metadata": {
  "kernelspec": {
   "display_name": "Python 3",
   "language": "python",
   "name": "python3"
  },
  "language_info": {
   "codemirror_mode": {
    "name": "ipython",
    "version": 3
   },
   "file_extension": ".py",
   "mimetype": "text/x-python",
   "name": "python",
   "nbconvert_exporter": "python",
   "pygments_lexer": "ipython3",
   "version": "3.6.0"
  }
 },
 "nbformat": 4,
 "nbformat_minor": 2
}
