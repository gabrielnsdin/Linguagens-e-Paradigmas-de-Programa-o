{
 "cells": [
  {
   "cell_type": "markdown",
   "metadata": {},
   "source": [
    "## Versão Procedural"
   ]
  },
  {
   "cell_type": "code",
   "execution_count": 1,
   "metadata": {
    "collapsed": false
   },
   "outputs": [
    {
     "name": "stdout",
     "output_type": "stream",
     "text": [
      "Digite um inteiro: q\n",
      "Isto não é um inteiro\n",
      "Digite um inteiro: 1\n",
      "Digite um operador ( +, -, * , /)m\n",
      "Isto não é um operador válido\n",
      "Digite um operador ( +, -, * , /)+\n",
      "Digite um inteiro: 2\n",
      "O resultado é 3 \n"
     ]
    }
   ],
   "source": [
    "OPERATORS = '+','-','*','/'\n",
    "\n",
    "def p_main():\n",
    "    number1 = p_get_number()\n",
    "    operator = p_get_operator()\n",
    "    number2 = p_get_number()\n",
    "    result = p_calculate(number1, operator, number2)\n",
    "    print('O resultado é %d ' % result)\n",
    "    \n",
    "def p_get_number():\n",
    "    while True:\n",
    "        s = input('Digite um inteiro: ')\n",
    "        try:\n",
    "            return int(s)\n",
    "        except ValueError:\n",
    "            print('Isto não é um inteiro')\n",
    "            \n",
    "def p_get_operator():\n",
    "    while True:\n",
    "        s = input('Digite um operador ( +, -, * , /)')\n",
    "        if s in OPERATORS:\n",
    "            return s\n",
    "        print('Isto não é um operador válido')\n",
    "        \n",
    "def p_calculate(number1, operator, number2):\n",
    "    if operator == '+':\n",
    "        return number1 + number2\n",
    "    if operator == '-':\n",
    "        return number1 - number2\n",
    "    if operator == '*':\n",
    "        return number1 * number2\n",
    "    if operator == '/':\n",
    "        return number1 / number2\n",
    "    raise Exception('Operador inválido')\n",
    "        \n",
    "p_main()"
   ]
  },
  {
   "cell_type": "markdown",
   "metadata": {},
   "source": [
    "## Versão Funcional (mais ou menos)"
   ]
  },
  {
   "cell_type": "code",
   "execution_count": 2,
   "metadata": {
    "collapsed": false
   },
   "outputs": [
    {
     "name": "stdout",
     "output_type": "stream",
     "text": [
      "Digite um inteiro: 5\n",
      "Digite um operator ( +, -, * , /)/\n",
      "Digite um inteiro: 3\n",
      "O resultado é 1\n"
     ]
    }
   ],
   "source": [
    "##OPERATORS = '+', '-', '*', '/'\n",
    "\n",
    "def f_get_number():\n",
    "    return int(input('Digite um inteiro: '))\n",
    "\n",
    "def f_get_operator():\n",
    "    return input('Digite um operator ( +, -, * , /)')\n",
    "\n",
    "def f_calculate(number1, operator, number2):\n",
    "    return number1 + number2 if operator == '+' \\\n",
    "        else number1 - number2 if operator == '-' \\\n",
    "        else number1 * number2 if operator == '*' \\\n",
    "        else number1 / number2 if operator == '/' \\\n",
    "        else None\n",
    "\n",
    "def f_main():\n",
    "    return f_calculate(\n",
    "        f_get_number(),\n",
    "        f_get_operator(),\n",
    "        f_get_number())\n",
    "\n",
    "print('O resultado é %d' % f_main())"
   ]
  },
  {
   "cell_type": "code",
   "execution_count": null,
   "metadata": {
    "collapsed": true
   },
   "outputs": [],
   "source": []
  }
 ],
 "metadata": {
  "kernelspec": {
   "display_name": "Python 3",
   "language": "python",
   "name": "python3"
  },
  "language_info": {
   "codemirror_mode": {
    "name": "ipython",
    "version": 3
   },
   "file_extension": ".py",
   "mimetype": "text/x-python",
   "name": "python",
   "nbconvert_exporter": "python",
   "pygments_lexer": "ipython3",
   "version": "3.6.0"
  }
 },
 "nbformat": 4,
 "nbformat_minor": 2
}
