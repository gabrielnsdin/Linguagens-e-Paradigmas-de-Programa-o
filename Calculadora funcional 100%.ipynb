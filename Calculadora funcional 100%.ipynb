{
 "cells": [
  {
   "cell_type": "markdown",
   "metadata": {},
   "source": [
    "## Calculadora Funcional (mas não muito)\n",
    "Problemas:\n",
    "- não faz validação das entradas\n",
    "- não tem loop"
   ]
  },
  {
   "cell_type": "code",
   "execution_count": null,
   "metadata": {
    "collapsed": false
   },
   "outputs": [],
   "source": [
    "OPERATORS = '+', '-', '*', '/'\n",
    "\n",
    "def f_get_number():\n",
    "    return int(input('Digite um inteiro: '))\n",
    "\n",
    "def f_get_operator():\n",
    "    return input(\"Entre com um operador (+, -, *, /): \")\n",
    "\n",
    "def f_calculate(number1, operator, number2):\n",
    "    return number1 + number2 if operator == '+' \\\n",
    "    else number1 - number2 if operator == '-' \\\n",
    "    else number1 * number2 if operator == '*' \\\n",
    "    else number1 / number2 if operator == '/' \\\n",
    "    else None\n",
    "    \n",
    "def f_main():\n",
    "    return f_calculate(\n",
    "        f_get_number(),\n",
    "        f_get_operator(),\n",
    "        f_get_number())\n",
    "\n",
    "print('O resultado é: %d' % f_main())    \n",
    "    "
   ]
  },
  {
   "cell_type": "markdown",
   "metadata": {},
   "source": [
    "## Calculadora Funcional(agora sim)\n",
    "O que vamos usar:\n",
    " - expressão lambda\n",
    " - decorators\n",
    " - high-order functions"
   ]
  },
  {
   "cell_type": "code",
   "execution_count": null,
   "metadata": {
    "collapsed": false
   },
   "outputs": [],
   "source": [
    "OPERATORS = '+', '-', '*', '/'\n",
    "\n",
    "def maybe(fnc):\n",
    "    \n",
    "    ##Transforma exceptions em valores de retorno\n",
    "    \n",
    "    def inner(*args):\n",
    "        for a in args:\n",
    "            if isinstance(a, Exception):\n",
    "                return a\n",
    "        try:\n",
    "            return fnc(*args)\n",
    "        except Exception as e:\n",
    "            return e\n",
    "    return inner\n",
    "\n",
    "\n",
    "def repeat(fnc, until):\n",
    "    ##repete uma função até que o valor retornado em until\n",
    "    ##atenda o criterio de parada\n",
    "    \n",
    "    def inner(*args):\n",
    "        while True:\n",
    "            result = fnc(*args)\n",
    "            if until(result):\n",
    "                return result\n",
    "    return inner\n",
    "\n",
    "is_int = lambda i: isinstance(i, int)\n",
    "get_number = lambda: int(input('Digite um inteiro: '))\n",
    "safe_get_number = repeat(maybe(get_number), until=is_int)\n",
    "\n",
    "is_operator = lambda o: o in OPERATORS\n",
    "get_operator = lambda: input('Digite um operator(+, -, *, /): ')\n",
    "safe_get_operator = repeat(get_operator, until=is_operator)\n",
    "\n",
    "calculate = lambda number1, operator, number2: \\\n",
    "    number1 + number2 if operator == '+' \\\n",
    "    else number1 - number2 if operator == '-' \\\n",
    "    else number1 * number2 if operator == '*' \\\n",
    "    else number1 / number2 if operator == '/' \\\n",
    "    else None\n",
    "    \n",
    "main = lambda: calculate(\n",
    "        safe_get_number(),\n",
    "        safe_get_operator(),\n",
    "        safe_get_number())\n",
    "\n",
    "forever = lambda retVal: False\n",
    "\n",
    "main_loop = repeat(lambda: print(main()), until=forever)\n",
    "main_loop()\n"
   ]
  },
  {
   "cell_type": "code",
   "execution_count": null,
   "metadata": {
    "collapsed": true
   },
   "outputs": [],
   "source": []
  }
 ],
 "metadata": {
  "kernelspec": {
   "display_name": "Python 3",
   "language": "python",
   "name": "python3"
  },
  "language_info": {
   "codemirror_mode": {
    "name": "ipython",
    "version": 3
   },
   "file_extension": ".py",
   "mimetype": "text/x-python",
   "name": "python",
   "nbconvert_exporter": "python",
   "pygments_lexer": "ipython3",
   "version": "3.6.0"
  }
 },
 "nbformat": 4,
 "nbformat_minor": 2
}
