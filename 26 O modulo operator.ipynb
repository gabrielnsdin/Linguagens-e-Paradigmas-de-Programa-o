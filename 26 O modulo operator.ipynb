{
 "cells": [
  {
   "cell_type": "code",
   "execution_count": 1,
   "metadata": {
    "collapsed": false
   },
   "outputs": [
    {
     "data": {
      "text/plain": [
       "720"
      ]
     },
     "execution_count": 1,
     "metadata": {},
     "output_type": "execute_result"
    }
   ],
   "source": [
    "l_fatorial = lambda n: 1 if n == 0 else n * l_fatorial(n-1)\n",
    "l_fatorial(6)"
   ]
  },
  {
   "cell_type": "markdown",
   "metadata": {},
   "source": [
    "## Encadeando funções e combinando valores de retorno"
   ]
  },
  {
   "cell_type": "code",
   "execution_count": 3,
   "metadata": {
    "collapsed": false
   },
   "outputs": [
    {
     "data": {
      "text/plain": [
       "12"
      ]
     },
     "execution_count": 3,
     "metadata": {},
     "output_type": "execute_result"
    }
   ],
   "source": [
    "def mult_em_cadeia(*oque):\n",
    "    \n",
    "    total = 1\n",
    "    for (fnc,arg) in oque:\n",
    "        total *= fnc(arg)\n",
    "    \n",
    "    return total\n",
    "\n",
    "mult_em_cadeia((l_fatorial, 2), (l_fatorial, 3))"
   ]
  },
  {
   "cell_type": "markdown",
   "metadata": {},
   "source": [
    "##  Executando qualquer operação "
   ]
  },
  {
   "cell_type": "code",
   "execution_count": 9,
   "metadata": {
    "collapsed": false
   },
   "outputs": [
    {
     "name": "stdout",
     "output_type": "stream",
     "text": [
      "12\n",
      "9\n"
     ]
    }
   ],
   "source": [
    "import operator\n",
    "\n",
    "def op_em_cadeia(como, *oque):\n",
    "    \n",
    "    total = 1\n",
    "    \n",
    "    for(fnc, arg) in oque:\n",
    "        total = como(total, fnc(arg))\n",
    "    return total\n",
    "\n",
    "print(op_em_cadeia(operator.mul, (l_fatorial,2), (l_fatorial,3)))\n",
    "print(op_em_cadeia(operator.add, (l_fatorial,2), (l_fatorial,3)))"
   ]
  },
  {
   "cell_type": "code",
   "execution_count": null,
   "metadata": {
    "collapsed": true
   },
   "outputs": [],
   "source": []
  }
 ],
 "metadata": {
  "kernelspec": {
   "display_name": "Python 3",
   "language": "python",
   "name": "python3"
  },
  "language_info": {
   "codemirror_mode": {
    "name": "ipython",
    "version": 3
   },
   "file_extension": ".py",
   "mimetype": "text/x-python",
   "name": "python",
   "nbconvert_exporter": "python",
   "pygments_lexer": "ipython3",
   "version": "3.6.0"
  }
 },
 "nbformat": 4,
 "nbformat_minor": 2
}
