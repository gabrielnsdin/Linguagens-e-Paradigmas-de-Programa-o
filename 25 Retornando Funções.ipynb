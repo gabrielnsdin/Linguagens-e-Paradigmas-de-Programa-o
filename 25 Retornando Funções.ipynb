{
 "cells": [
  {
   "cell_type": "markdown",
   "metadata": {},
   "source": [
    "## 4 passos para fazer pão"
   ]
  },
  {
   "cell_type": "code",
   "execution_count": 1,
   "metadata": {
    "collapsed": true
   },
   "outputs": [],
   "source": [
    "preaquecer_forno = lambda: print(\"Preaquecer o forno\")\n",
    "colocar_pao = lambda: print(\"Colocar o pão no forno\")\n",
    "esperar_cinco_minutos = lambda: print(\"Esperar cinco minutos\")\n",
    "tirar_pao = lambda: print(\"Tirar o pão do forno\")"
   ]
  },
  {
   "cell_type": "code",
   "execution_count": 2,
   "metadata": {
    "collapsed": false
   },
   "outputs": [
    {
     "name": "stdout",
     "output_type": "stream",
     "text": [
      "Preaquecer o forno\n",
      "Colocar o pão no forno\n",
      "Esperar cinco minutos\n",
      "Tirar o pão do forno\n"
     ]
    }
   ],
   "source": [
    "preaquecer_forno()\n",
    "colocar_pao()\n",
    "esperar_cinco_minutos()\n",
    "tirar_pao()"
   ]
  },
  {
   "cell_type": "markdown",
   "metadata": {},
   "source": [
    "## Usar uma fução de execução( launcher function)"
   ]
  },
  {
   "cell_type": "code",
   "execution_count": 5,
   "metadata": {
    "collapsed": false
   },
   "outputs": [
    {
     "name": "stdout",
     "output_type": "stream",
     "text": [
      "Preaquecer o forno\n",
      "Colocar o pão no forno\n",
      "Esperar cinco minutos\n",
      "Tirar o pão do forno\n"
     ]
    }
   ],
   "source": [
    "def executar_passos(*funcoes):\n",
    "    \n",
    "    for funcao in funcoes:\n",
    "        funcao()\n",
    "\n",
    "executar_passos(preaquecer_forno, \n",
    "                colocar_pao, \n",
    "                esperar_cinco_minutos, \n",
    "                tirar_pao)"
   ]
  },
  {
   "cell_type": "code",
   "execution_count": 6,
   "metadata": {
    "collapsed": false
   },
   "outputs": [
    {
     "name": "stdout",
     "output_type": "stream",
     "text": [
      "Preaquecer o forno\n",
      "Colocar o pão no forno\n",
      "Esperar cinco minutos\n",
      "Tirar o pão do forno\n"
     ]
    }
   ],
   "source": [
    "def criar_receita(*funcoes):\n",
    "    \n",
    "    def executar_todas():\n",
    "        \n",
    "        for funcao in funcoes:\n",
    "            funcao()\n",
    "    \n",
    "    return executar_todas\n",
    "\n",
    "receita = criar_receita(preaquecer_forno, \n",
    "                colocar_pao, \n",
    "                esperar_cinco_minutos, \n",
    "                tirar_pao)\n",
    "\n",
    "receita()"
   ]
  },
  {
   "cell_type": "code",
   "execution_count": null,
   "metadata": {
    "collapsed": true
   },
   "outputs": [],
   "source": []
  }
 ],
 "metadata": {
  "kernelspec": {
   "display_name": "Python 3",
   "language": "python",
   "name": "python3"
  },
  "language_info": {
   "codemirror_mode": {
    "name": "ipython",
    "version": 3
   },
   "file_extension": ".py",
   "mimetype": "text/x-python",
   "name": "python",
   "nbconvert_exporter": "python",
   "pygments_lexer": "ipython3",
   "version": "3.6.0"
  }
 },
 "nbformat": 4,
 "nbformat_minor": 2
}
